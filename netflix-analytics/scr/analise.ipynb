{
 "cells": [
  {
   "cell_type": "markdown",
   "id": "d6904883",
   "metadata": {},
   "source": [
    "## Etapa 3- Análise de dados\n"
   ]
  },
  {
   "cell_type": "code",
   "execution_count": 15,
   "id": "e1d78c2d",
   "metadata": {},
   "outputs": [],
   "source": [
    "from pathlib import Path\n",
    "import pandas as pd\n",
    "import sqlite3\n",
    "\n",
    "CWD = Path.cwd().resolve()\n",
    "PROJECT_DIR = CWD.parent if CWD.name.lower() in {\"scr\", \"src\", \"notebooks\"} else CWD\n",
    "\n",
    "DATA_DIR = PROJECT_DIR / \"data\"\n",
    "PROC_DIR = DATA_DIR / \"processed\"\n",
    "SQLITE_PATH = DATA_DIR / \"netflix.db\"\n",
    "\n",
    "conn = sqlite3.connect(SQLITE_PATH.as_posix())"
   ]
  },
  {
   "cell_type": "markdown",
   "id": "d1e14742",
   "metadata": {},
   "source": [
    "1) Top países com mais títulos\n",
    "O que a query faz: conta quantos títulos existem por país na tabela normalizada titles_by_country.\n",
    "Por que nessa tabela? porque eu já “explodi” country (N:N), ou seja, cada país está em uma linha por título.\n",
    " Assim, o COUNT(*) reflete de forma correta a presença do título em cada país.\n",
    " - Ordeno por total_titles DESC para facilitar a visualização do ranking no gráfico."
   ]
  },
  {
   "cell_type": "code",
   "execution_count": 16,
   "id": "7f0c487b",
   "metadata": {},
   "outputs": [
    {
     "data": {
      "text/plain": [
       "WindowsPath('C:/Users/maria/OneDrive/Documentos/Portifolio-dados/netflix-analytics/data/processed/top_countries.csv')"
      ]
     },
     "execution_count": 16,
     "metadata": {},
     "output_type": "execute_result"
    }
   ],
   "source": [
    "top_countries = \"\"\"\n",
    "SELECT country, COUNT(*) AS total_titles\n",
    "FROM titles_by_country\n",
    "GROUP BY country\n",
    "ORDER BY total_titles DESC;\n",
    "\"\"\"\n",
    "df_top_countries = pd.read_sql_query(top_countries, conn)\n",
    "path1 = PROC_DIR / \"top_countries.csv\"\n",
    "df_top_countries.to_csv(path1, index=False, encoding=\"utf-8\")\n",
    "path1"
   ]
  },
  {
   "cell_type": "markdown",
   "id": "eac02c2d",
   "metadata": {},
   "source": [
    "2) Evolução por mês-ano  \n",
    "O que a query faz: agrega os títulos por mês-ano com base em date_added da titles_clean.  \n",
    "Por que usar strftime('%Y-%m', date_added)? transforma a data (YYYY-MM-DD) em uma etiqueta mensal (YYYY-MM) para agrupar.  \n",
    "Por que WHERE date_added IS NOT NULL? evita linhas sem data que atrapalhariam a contagem.  \n",
    "Por que ordenar por year_month? para já sair do banco em ordem cronológica."
   ]
  },
  {
   "cell_type": "code",
   "execution_count": 17,
   "id": "39d7fd21",
   "metadata": {},
   "outputs": [
    {
     "data": {
      "text/plain": [
       "WindowsPath('C:/Users/maria/OneDrive/Documentos/Portifolio-dados/netflix-analytics/data/processed/trend_year_month.csv')"
      ]
     },
     "execution_count": 17,
     "metadata": {},
     "output_type": "execute_result"
    }
   ],
   "source": [
    "qnt_month = \"\"\"\n",
    "SELECT\n",
    "  strftime('%Y-%m', date_added) AS year_month,\n",
    "  COUNT(*) AS total_titles\n",
    "FROM titles_clean\n",
    "WHERE date_added IS NOT NULL\n",
    "GROUP BY year_month\n",
    "ORDER BY year_month;\n",
    "\"\"\"\n",
    "df_trend = pd.read_sql_query(qnt_month, conn)\n",
    "path2 = PROC_DIR / \"trend_year_month.csv\"\n",
    "df_trend.to_csv(path2, index=False, encoding=\"utf-8\")\n",
    "path2"
   ]
  },
  {
   "cell_type": "markdown",
   "id": "06e18429",
   "metadata": {},
   "source": [
    "3) Distribuição filmes x séries\n",
    "- O que a query faz: conta quantos registros existem por type na base limpa (titles_clean).\n",
    "- Ordeno por total DESC para facilitar a leitura (maior primeiro)."
   ]
  },
  {
   "cell_type": "code",
   "execution_count": 18,
   "id": "88b65612",
   "metadata": {},
   "outputs": [
    {
     "data": {
      "text/plain": [
       "WindowsPath('C:/Users/maria/OneDrive/Documentos/Portifolio-dados/netflix-analytics/data/processed/type_distribution.csv')"
      ]
     },
     "execution_count": 18,
     "metadata": {},
     "output_type": "execute_result"
    }
   ],
   "source": [
    "type_dist = \"\"\"\n",
    "SELECT type, COUNT(*) AS total\n",
    "FROM titles_clean\n",
    "GROUP BY type\n",
    "ORDER BY total DESC;\n",
    "\"\"\"\n",
    "df_type = pd.read_sql_query(type_dist, conn)\n",
    "path3 = PROC_DIR / \"type_distribution.csv\"\n",
    "df_type.to_csv(path3, index=False, encoding=\"utf-8\")\n",
    "path3\n"
   ]
  },
  {
   "cell_type": "markdown",
   "id": "fe07813c",
   "metadata": {},
   "source": [
    "4) Elenco — atores/atrizes mais frequentes\n",
    "Aqui a coluna \"cast\" é multivalor e vem como uma única string com nomes separados por vírgula\n",
    " Para contar aparições individuais, eu preciso separar esses nomes.\n",
    "Metódo usado: um CTE recursivo (WITH RECURSIVE) em SQLite que vai fatiando a string a cada vírgula:\n",
    " - Começo garantindo que sempre exista uma vírgula no final (rest = cast || ',') para simplificar o corte.\n",
    " - Em cada passo, pego o token até a próxima vírgula como person e avanço o restante em rest.\n",
    " - Repito até rest ficar vazio.\n",
    "\n",
    "Por que não usei JSON aqui? porque no meu ambiente SQLite obtive \"malformed JSON\" (strings com caracteres\n",
    " problemáticos). O método recursivo por vírgula funciona melhor nesse cenário.\n",
    "\n",
    "Resultado final: cada ocorrência de pessoa vira uma linha, então o COUNT(*) vira o número de aparições no elenco dos títulos."
   ]
  },
  {
   "cell_type": "code",
   "execution_count": 19,
   "id": "050ab55b",
   "metadata": {},
   "outputs": [
    {
     "name": "stdout",
     "output_type": "stream",
     "text": [
      "Exportado: C:\\Users\\maria\\OneDrive\\Documentos\\Portifolio-dados\\netflix-analytics\\data\\processed\\cast_counts.csv\n"
     ]
    }
   ],
   "source": [
    "cast_counts = \"\"\"\n",
    "WITH RECURSIVE split AS (\n",
    "    -- ponto de partida: pega cada linha e garante uma vírgula no final para facilitar o loop\n",
    "    SELECT\n",
    "        show_id,\n",
    "        TRIM(\"cast\") || ',' AS rest,\n",
    "        '' AS person\n",
    "    FROM titles_clean\n",
    "    WHERE \"cast\" IS NOT NULL AND TRIM(\"cast\") <> ''\n",
    "\n",
    "    UNION ALL\n",
    "\n",
    "    -- em cada passo, recorta o token até a próxima vírgula e avança o resto\n",
    "    SELECT\n",
    "        show_id,\n",
    "        CASE\n",
    "            WHEN INSTR(rest, ',') > 0 THEN SUBSTR(rest, INSTR(rest, ',') + 1)\n",
    "            ELSE ''\n",
    "        END AS rest,\n",
    "        TRIM(SUBSTR(rest, 1, INSTR(rest, ',') - 1)) AS person\n",
    "    FROM split\n",
    "    WHERE rest <> '' AND INSTR(rest, ',') > 0\n",
    ")\n",
    "SELECT person, COUNT(*) AS appearances\n",
    "FROM split\n",
    "WHERE person <> ''      -- ignora vazios\n",
    "GROUP BY person\n",
    "ORDER BY appearances DESC;\n",
    "\"\"\"\n",
    "\n",
    "df_cast = pd.read_sql_query(cast_counts, conn)\n",
    "path4 = PROC_DIR / \"cast_counts.csv\"\n",
    "df_cast.to_csv(path4, index=False, encoding=\"utf-8\")\n",
    "print(\"Exportado:\", path4)\n"
   ]
  },
  {
   "cell_type": "code",
   "execution_count": 20,
   "id": "fc75f4f1",
   "metadata": {},
   "outputs": [],
   "source": [
    "conn.close()\n"
   ]
  }
 ],
 "metadata": {
  "kernelspec": {
   "display_name": "Python 3",
   "language": "python",
   "name": "python3"
  },
  "language_info": {
   "codemirror_mode": {
    "name": "ipython",
    "version": 3
   },
   "file_extension": ".py",
   "mimetype": "text/x-python",
   "name": "python",
   "nbconvert_exporter": "python",
   "pygments_lexer": "ipython3",
   "version": "3.13.3"
  }
 },
 "nbformat": 4,
 "nbformat_minor": 5
}
